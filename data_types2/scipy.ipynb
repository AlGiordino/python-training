{
 "cells": [
  {
   "cell_type": "markdown",
   "metadata": {},
   "source": [
    "# Scientific Python\n",
    "\n",
    "Although the Numpy library allows to do some operations, it is rather limited.\n",
    "Other mathematical functions are provided by the [Scipy](https://www.scipy.org/) library. \n",
    "\n",
    "<div class=\"alert alert-success\">\n",
    "<i>In an ideal world, NumPy would contain nothing but the array data type and the most basic operations: indexing, sorting, reshaping, basic elementwise functions, etc. All numerical code would reside in SciPy. [...] If you are doing scientific computing with Python, you should probably install both NumPy and SciPy. Most new features belong in SciPy rather than NumPy.</i> Source: <a href=\\\"https://www.scipy.org/scipylib/faq.html#what-is-the-difference-between-numpy-and-scipy\" target=\\\"_blank\\\">Scipy FAQ</a>\n",
    "</div>\n",
    "\n",
    "## Submodules\n",
    "\n",
    "Scipy comes with numerous submodules, which are listed below (source: [scipy.org](https://www.scipy.org/)}\n",
    "\n",
    "\n",
    "| Description                               | Module\n",
    "| :----------------------------------------:|:----------------------------:\n",
    "| Special functions (mathematical physics)  | [scipy.special](https://docs.scipy.org/doc/scipy/reference/tutorial/special.html)\n",
    "| Integration                               | [scipy.integrate](https://docs.scipy.org/doc/scipy/reference/tutorial/integrate.html)\n",
    "| Optimization                              |[scipy.optimize](https://docs.scipy.org/doc/scipy/reference/tutorial/optimize.html)\n",
    "| Interpolation                             |[scipy.interpolate](https://docs.scipy.org/doc/scipy/reference/tutorial/interpolate.html)\n",
    "| Fourier Transforms                        |[scipy.fft](https://docs.scipy.org/doc/scipy/reference/tutorial/fft.html)\n",
    "| Signal Processing                         |[scipy.signal](https://docs.scipy.org/doc/scipy/reference/tutorial/signal.html)\n",
    "| Linear Algebra                            |[scipy.linalg](https://docs.scipy.org/doc/scipy/reference/tutorial/linalg.html)\n",
    "| Spatial data structures and algorithms    | [scipy.spatial](https://docs.scipy.org/doc/scipy/reference/tutorial/spatial.html)\n",
    "| Statistics | [scipy.stats](https://docs.scipy.org/doc/scipy/reference/tutorial/stats.html)\n",
    "| Multidimensional image processing         | [scipy.ndimage](https://docs.scipy.org/doc/scipy/reference/tutorial/ndimage.html)\n",
    "| File IO: Matlab, NetCDF, IDL              |  [scipy.io](https://docs.scipy.org/doc/scipy/reference/tutorial/io.html)\n",
    "\n",
    "<div class=\"alert alert-warning\">\n",
    "    <strong>Since you all are fluent in using Numpy, I leave it to you the exploration of Scipy... </strong>\n",
    "</div>"
   ]
  },
  {
   "cell_type": "code",
   "execution_count": null,
   "metadata": {},
   "outputs": [],
   "source": []
  }
 ],
 "metadata": {
  "kernelspec": {
   "display_name": "Python 3",
   "language": "python",
   "name": "python3"
  },
  "language_info": {
   "codemirror_mode": {
    "name": "ipython",
    "version": 3
   },
   "file_extension": ".py",
   "mimetype": "text/x-python",
   "name": "python",
   "nbconvert_exporter": "python",
   "pygments_lexer": "ipython3",
   "version": "3.7.4"
  }
 },
 "nbformat": 4,
 "nbformat_minor": 2
}
