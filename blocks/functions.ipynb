{
 "cells": [
  {
   "cell_type": "markdown",
   "metadata": {},
   "source": [
    "# Functions\n",
    "\n",
    "## Definitions\n",
    "\n",
    "The creation of functions is achieved with the ```def``` keyword:"
   ]
  },
  {
   "cell_type": "code",
   "execution_count": 65,
   "metadata": {},
   "outputs": [],
   "source": [
    "def function(arg1, arg2, arg3=0, arg4=-1):\n",
    "    # arg1, arg2: compulsory arguments\n",
    "    # arg3, arg4: additional arguments with default values\n",
    "    # !!! Additional arguments must be after compulsory ones\n",
    "    output = arg1 + arg2 + arg3 * (arg1 + arg2) \\\n",
    "            + arg4*(arg1 - arg2)\n",
    "    \n",
    "    return output, output**2  # returs a 2 elemt. tuple"
   ]
  },
  {
   "cell_type": "code",
   "execution_count": 66,
   "metadata": {},
   "outputs": [
    {
     "name": "stdout",
     "output_type": "stream",
     "text": [
      "4 16\n",
      "2 4\n",
      "7 49\n",
      "5 25\n",
      "(5, 25)\n",
      "5 25\n"
     ]
    }
   ],
   "source": [
    "x1, x2 = function(1, 2) \n",
    "print(x1, x2)\n",
    "\n",
    "x1, x2 = function(1, 2, arg4=1) \n",
    "print(x1, x2)\n",
    "\n",
    "x1, x2 = function(1, 2, arg3=1)\n",
    "print(x1, x2)\n",
    "\n",
    "x1, x2 = function(1, 2, arg3=1, arg4=1)\n",
    "print(x1, x2)\n",
    "\n",
    "x = function(1, 2, arg3=1, arg4=1)  # output returned as a tuple\n",
    "print(x)\n",
    "x1 = x[0]\n",
    "x2 = x[1]\n",
    "print(x1, x2)"
   ]
  },
  {
   "cell_type": "markdown",
   "metadata": {},
   "source": [
    "## Arguments as reference or values\n",
    "\n",
    "Function arguments that are *immutable* (```int```, \n",
    "    ```float```, etc.) are provided as *values*, i.e. a local copy is made in\n",
    "    the function. The argument value is not changed after function return.\n",
    "\n",
    "Function arguments that are *mutable* (```list```, \n",
    "    ```array```, ```dict```, etc.) are provided as *references*, i.e. memory addresses. They can \n",
    "    therefore be modified from within the function. The argument value may change after function call.\n",
    "    "
   ]
  },
  {
   "cell_type": "code",
   "execution_count": 67,
   "metadata": {},
   "outputs": [],
   "source": [
    "# demonstration of arguments as references/values\n",
    "def update(x, y):\n",
    "    print('id before ', id(x))\n",
    "    x += y\n",
    "    #x = x + y # this creates a new variable x, leaving x value unchanged\n",
    "    print('id after.', id(x))"
   ]
  },
  {
   "cell_type": "code",
   "execution_count": 68,
   "metadata": {},
   "outputs": [
    {
     "name": "stdout",
     "output_type": "stream",
     "text": [
      "id before  4300559504\n",
      "id after. 4300559824\n",
      "1\n"
     ]
    }
   ],
   "source": [
    "##### applied on immutable (int)\n",
    "x = 1\n",
    "update(x, 10)\n",
    "print(x)"
   ]
  },
  {
   "cell_type": "code",
   "execution_count": 69,
   "metadata": {},
   "outputs": [
    {
     "name": "stdout",
     "output_type": "stream",
     "text": [
      "id before  4563009648\n",
      "id after. 4562877776\n",
      "string arg\n"
     ]
    }
   ],
   "source": [
    "##### applied on immutable (string)\n",
    "x = 'string arg'\n",
    "update(x, ' final string')\n",
    "print(x)"
   ]
  },
  {
   "cell_type": "code",
   "execution_count": 70,
   "metadata": {},
   "outputs": [
    {
     "name": "stdout",
     "output_type": "stream",
     "text": [
      "id before  4562879424\n",
      "id after. 4562879424\n",
      "[1, 2]\n"
     ]
    }
   ],
   "source": [
    "##### applied on mutable (list)\n",
    "x = [1]\n",
    "update(x, [2])\n",
    "print(x)"
   ]
  },
  {
   "cell_type": "code",
   "execution_count": 71,
   "metadata": {},
   "outputs": [
    {
     "name": "stdout",
     "output_type": "stream",
     "text": [
      "id before  4562875216\n",
      "id after. 4562875216\n",
      "[3 4 5]\n"
     ]
    }
   ],
   "source": [
    "##### applied on mutable (array)\n",
    "x = np.array([1, 2, 3])\n",
    "update(x, 2)   # x has been updated in the function\n",
    "print(x)"
   ]
  },
  {
   "cell_type": "markdown",
   "metadata": {},
   "source": [
    "## Scope of variables\n",
    "\n",
    "All the variables declared within the function (arguments included)\n",
    "are *local* variables. When leaving the function, the variables are removed."
   ]
  },
  {
   "cell_type": "code",
   "execution_count": 72,
   "metadata": {},
   "outputs": [
    {
     "name": "stdout",
     "output_type": "stream",
     "text": [
      "func.  x= 15 z= 25\n",
      "10\n"
     ]
    }
   ],
   "source": [
    "# demonstration of local variable\n",
    "x = 10\n",
    "\n",
    "def function(x):\n",
    "\n",
    "    x = x + 5\n",
    "    z = x + 10\n",
    "    print('func. ', 'x=', x, 'z=', z)\n",
    "\n",
    "function(x)\n",
    "\n",
    "print(x)\n",
    "# print(z)  # causes an error: z undefined"
   ]
  },
  {
   "cell_type": "markdown",
   "metadata": {},
   "source": [
    "*Global* variables can be accessed from inside a function:"
   ]
  },
  {
   "cell_type": "code",
   "execution_count": 73,
   "metadata": {},
   "outputs": [
    {
     "name": "stdout",
     "output_type": "stream",
     "text": [
      "20\n"
     ]
    }
   ],
   "source": [
    "# by default, global variable\n",
    "y = 20\n",
    "\n",
    "def function2():\n",
    "    print(y)\n",
    "\n",
    "function2()"
   ]
  },
  {
   "cell_type": "markdown",
   "metadata": {},
   "source": [
    "<div class=\"alert alert-danger\">\n",
    "  <strong>Warning!</strong> \n",
    "    By default, a variable <strong>that is assigned</strong> within a function is considered as <i>local</i>. It must be declared as <i>global</i> in the function.\n",
    "</div>\n"
   ]
  },
  {
   "cell_type": "code",
   "execution_count": 74,
   "metadata": {},
   "outputs": [
    {
     "name": "stdout",
     "output_type": "stream",
     "text": [
      "40 10\n"
     ]
    }
   ],
   "source": [
    "z = 30\n",
    "x = 10\n",
    "\n",
    "def function3():\n",
    "\n",
    "    # to assign new values to the global variables,\n",
    "    # they need to be declared as 'global'\n",
    "    global z\n",
    "    # global x\n",
    "\n",
    "    z += 10     \n",
    "    # x += 5 # will crash because x not declared global\n",
    "\n",
    "function3()\n",
    "print(z, x)  # z has been updated"
   ]
  },
  {
   "cell_type": "code",
   "execution_count": 75,
   "metadata": {},
   "outputs": [
    {
     "ename": "SyntaxError",
     "evalue": "Missing parentheses in call to 'print'. Did you mean print(\"============================= testing *args\")? (<ipython-input-75-ce827cd06ac0>, line 1)",
     "output_type": "error",
     "traceback": [
      "\u001b[0;36m  File \u001b[0;32m\"<ipython-input-75-ce827cd06ac0>\"\u001b[0;36m, line \u001b[0;32m1\u001b[0m\n\u001b[0;31m    print \"============================= testing *args\"\u001b[0m\n\u001b[0m                                                      ^\u001b[0m\n\u001b[0;31mSyntaxError\u001b[0m\u001b[0;31m:\u001b[0m Missing parentheses in call to 'print'. Did you mean print(\"============================= testing *args\")?\n"
     ]
    }
   ],
   "source": [
    "\n",
    "\n",
    "\n",
    "\n",
    "\n",
    "print \"============================= testing *args\"\n",
    "\n",
    "def function2(*args):\n",
    "\n",
    "    print args\n",
    "\n",
    "    if len(args) > 0:\n",
    "        for v in args:\n",
    "            print(args)\n",
    "    \n",
    "print \"function2(3) = \", function2()\n",
    "print \"function2(3, 'toto', 5.4)\", function2('toto', 5.4)\n",
    "\n",
    "print \"============================= testing *args\"\n",
    "\n",
    "def function3(x, **kwargs):\n",
    "\n",
    "    strout = \"figs\"\n",
    "    for key, val in kwargs.items():\n",
    "        strout =  strout + \"_\" + key + \"_\" + str(val)\n",
    "\n",
    "    y = np.cos(x)\n",
    "    plt.figure()\n",
    "    plt.plot(x, y, **kwargs)\n",
    "    plt.savefig(strout)\n",
    "\n",
    "x = np.linspace(0, 2*np.pi, 100)\n",
    "function3(x)\n",
    "function3(x, color='r', linewidth=1)\n",
    "argsdict = {'linewidth':4, 'color':'orange', 'linestyle':'--'}\n",
    "function3(x, **argsdict)\n",
    "\n",
    "def function4(x, dictfig={}, dictplt={}):\n",
    "    y = np.cos(x)\n",
    "    plt.figure()\n",
    "    plt.plot(x, y, **dictplt)\n",
    "    plt.savefig(\"figure.png\", **dictfig)\n",
    "\n",
    "argsplt = {'linewidth':4, 'color':'orange', 'linestyle':'--'}\n",
    "argsfig = {'facecolor':'gray'}\n",
    "function4(x, dictfig=argsfig, dictplt=argsplt)\n",
    "#plt.show()\n",
    "\n",
    "######################### lambda functions\n",
    "\n",
    "y = lambda x: x**2\n",
    "print y(2)  # 4\n",
    "print y(3)  # 9\n",
    "\n",
    "z = lambda x, y : x * y\n",
    "print z(3, 5)\n",
    "print z(5, 7)\n",
    "\n",
    "# https://stackoverflow.com/questions/890128/why-are-python-lambdas-useful\n",
    "# defines a function within a function\n",
    "def ftest(n):\n",
    "    return  lambda x: x * n\n",
    "f2 = ftest(2)\n",
    "print f2(10)  # 20\n",
    "\n",
    "f4 = ftest(4)  \n",
    "print f4(10)  # 40\n",
    "\n",
    "\n"
   ]
  },
  {
   "cell_type": "markdown",
   "metadata": {},
   "source": [
    "### Functions: the ```*args``` argument\n",
    "\n",
    "When the number of arguments is variable, you can use the ```*args``` argument, can contains as many arguments as you want. "
   ]
  },
  {
   "cell_type": "code",
   "execution_count": null,
   "metadata": {},
   "outputs": [],
   "source": [
    "def function2(x, y, *args):\n",
    "    # if args are provided\n",
    "    # print all the arguments\n",
    "    # return a tuple\n",
    "    print('x = ', x)\n",
    "    print('y = ', y)\n",
    "    if len(args) > 0:\n",
    "        for v in args:\n",
    "            print('other ', v)\n",
    "\n",
    "function2(3, 'toto')\n",
    "function2(3, 'toto', 5.4)\n",
    "function2(3, 'toto', 5.4, 'z', [0, 3, 4])"
   ]
  },
  {
   "cell_type": "markdown",
   "metadata": {},
   "source": [
    "### The ```**kwargs``` argument\n",
    "\n",
    "Imagine you want to define a function that normalizes a time-series, i.e. removes the mean and divides by the standard-deviation:\n",
    "\n",
    "$Y = \\frac{X - \\overline{X}}{\\sigma_X}$\n",
    "\n",
    "You want that your function should be able to consider all arguments as the ```numpy.mean``` function. You can either copy/paste\n",
    "the full list of the ```numpy.mean``` arguments. However:\n",
    "\n",
    "- This is time-consuming\n",
    "- This is error prone  (misspelling, updates)\n",
    "\n",
    "A better way is to use the ```**kwargs``` argument, which is a dictionnary of arguments."
   ]
  },
  {
   "cell_type": "code",
   "execution_count": null,
   "metadata": {},
   "outputs": [],
   "source": [
    "import numpy as np\n",
    "def stand(x, **kwargs):\n",
    "    m = np.mean(x, **kwargs)\n",
    "    s = np.std(x)\n",
    "    print(m.shape)\n",
    "    return (x - m) / s"
   ]
  },
  {
   "cell_type": "code",
   "execution_count": null,
   "metadata": {},
   "outputs": [],
   "source": [
    "x = np.random.normal(loc=0.0, scale=1.0, size=(1000, 100))\n",
    "out = stand(x)\n",
    "out = stand(x, axis=0)  # mean computed over the dim 0\n",
    "out = stand(x, keepdims=True, axis=0)  # keeping the dimensions\n",
    "# out = stand(x, ddof=1)  # crashes since ddof is no numpy.mean argument"
   ]
  },
  {
   "cell_type": "markdown",
   "metadata": {},
   "source": [
    "It is also possible to define several ```**kwargs``` arguments by using dictionaries. \n",
    "For instance, to also control the arguments of the ```numpy.std``` function:"
   ]
  },
  {
   "cell_type": "code",
   "execution_count": null,
   "metadata": {},
   "outputs": [],
   "source": [
    "def stand(x, argsmean={}, argsstd={}):\n",
    "    m = np.mean(x, **argsmean)\n",
    "    s = np.std(x, **argsstd)\n",
    "    print('mean', m.shape)\n",
    "    print('std' , s.shape)\n",
    "    print('---')\n",
    "    return (x - m) / s\n",
    "\n",
    "# extra arguments for the plot function\n",
    "args_mean = {'keepdims':True, 'axis':0}\n",
    "# extra arguments for the savefig function\n",
    "args_std = {'keepdims':True, 'axis':0, 'ddof':1}\n",
    "\n",
    "out = stand(x)\n",
    "out = stand(x, argsmean=args_mean)\n",
    "out = stand(x, argsstd=args_std)\n",
    "out = stand(x, argsmean=args_mean, argsstd=args_std)\n",
    "# out = stand(x, argsmean=args_std, argsstd=args_mean) # crashes since ddof is no argument for std"
   ]
  },
  {
   "cell_type": "markdown",
   "metadata": {},
   "source": [
    "## Lambda functions\n",
    "\n",
    "Lambda function, also called anonymous functions, are not defined by using \n",
    "the ```def``` statement but the ```lambda``` one.\n",
    "\n",
    "More on lambda functions can be found in [w3schools](https://www.w3schools.com/python/python_lambda.asp)"
   ]
  },
  {
   "cell_type": "code",
   "execution_count": null,
   "metadata": {},
   "outputs": [],
   "source": [
    "y = lambda x: x**2 \n",
    "print(y(2))\n",
    "print(y(3))"
   ]
  },
  {
   "cell_type": "code",
   "execution_count": null,
   "metadata": {},
   "outputs": [],
   "source": [
    "z = lambda x, y : x * y\n",
    "print(z(3, 5))\n",
    "print(z(5, 7))"
   ]
  },
  {
   "cell_type": "code",
   "execution_count": null,
   "metadata": {},
   "outputs": [],
   "source": [
    "# https://stackoverflow.com/questions/890128/why-are-python-lambdas-useful\n",
    "# \n",
    "def ftest(n):\n",
    "    output = (lambda x : x * n)\n",
    "    return  output\n",
    "\n",
    "# doubler \n",
    "doubler = ftest(2)\n",
    "print(doubler(10))  # 20\n",
    "\n",
    "# quadrupler\n",
    "quadrupler = ftest(4)\n",
    "quadrupler(10)  # 40"
   ]
  },
  {
   "cell_type": "code",
   "execution_count": null,
   "metadata": {},
   "outputs": [],
   "source": []
  }
 ],
 "metadata": {
  "kernelspec": {
   "display_name": "Python 3",
   "language": "python",
   "name": "python3"
  },
  "language_info": {
   "codemirror_mode": {
    "name": "ipython",
    "version": 3
   },
   "file_extension": ".py",
   "mimetype": "text/x-python",
   "name": "python",
   "nbconvert_exporter": "python",
   "pygments_lexer": "ipython3",
   "version": "3.7.4"
  }
 },
 "nbformat": 4,
 "nbformat_minor": 2
}
