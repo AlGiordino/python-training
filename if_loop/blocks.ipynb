{
 "cells": [
  {
   "cell_type": "markdown",
   "metadata": {},
   "source": [
    "## Code blocks\n",
    "\n",
    "In Python, conditional statements, functions and loops are defined within code blocks, which have in common:\n",
    "\n",
    "- The block definition must end with ```:```\n",
    "- The code inside the block must be indented to the right\n",
    "- When leaving the block, the code  must be indented to the left\n",
    "\n",
    "<div class=\"alert alert-danger\">\n",
    "    <b>Common errors</b>\n",
    "    <br>\n",
    "    Indent issues occur often, be carefull\n",
    "</div>\n",
    "\n",
    "\n",
    "<div class=\"alert alert-warning\">\n",
    "        <b>Text Editor issues</b>\n",
    "     <br>\n",
    "    With some text editors, the <i>tab</i> keys would make your code incompatible with other systems.\n",
    "Use 4 spaces instead.\n",
    "</div>"
   ]
  },
  {
   "cell_type": "code",
   "execution_count": null,
   "metadata": {},
   "outputs": [],
   "source": []
  }
 ],
 "metadata": {
  "kernelspec": {
   "display_name": "Python 3",
   "language": "python",
   "name": "python3"
  },
  "language_info": {
   "codemirror_mode": {
    "name": "ipython",
    "version": 3
   },
   "file_extension": ".py",
   "mimetype": "text/x-python",
   "name": "python",
   "nbconvert_exporter": "python",
   "pygments_lexer": "ipython3",
   "version": "3.7.4"
  }
 },
 "nbformat": 4,
 "nbformat_minor": 2
}
